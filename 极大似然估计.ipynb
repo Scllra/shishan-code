{
 "cells": [
  {
   "cell_type": "code",
   "execution_count": 1,
   "id": "ee77fcb4-9169-42de-bf26-b471d4a56588",
   "metadata": {},
   "outputs": [],
   "source": [
    "import numpy as np\n",
    "import matplotlib.pyplot as plt"
   ]
  },
  {
   "cell_type": "code",
   "execution_count": 10,
   "id": "b8b73f73-918f-4522-b06a-aac6b15d509a",
   "metadata": {},
   "outputs": [],
   "source": [
    "#定义似然函数\n",
    "def likelihood(p, observations):\n",
    "    result = 1\n",
    "    for obs in observations:\n",
    "        result *= p[obs - 1]\n",
    "    return result"
   ]
  },
  {
   "cell_type": "code",
   "execution_count": 11,
   "id": "7fe937fb-4e08-49e7-b409-413154dece79",
   "metadata": {},
   "outputs": [],
   "source": [
    "#构造观测数据\n",
    "def generate_observations(n):\n",
    "    return np.random.randint(1, 7, n)"
   ]
  },
  {
   "cell_type": "code",
   "execution_count": 12,
   "id": "68614401-26d2-427c-8877-d6c1aee817e3",
   "metadata": {},
   "outputs": [],
   "source": [
    "#定义负对数似然函数\n",
    "def negative_log_likelihood(p, observations):\n",
    "    result = 0\n",
    "    for obs in observations:\n",
    "        result += -np.log(p[obs - 1])\n",
    "    return result"
   ]
  },
  {
   "cell_type": "code",
   "execution_count": 13,
   "id": "87b87a30-dd1d-413c-94e1-81d370029a1a",
   "metadata": {},
   "outputs": [],
   "source": [
    "#梯度计算\n",
    "def gradient(p, observations):\n",
    "    grad = np.zeros_like(p)\n",
    "    for obs in observations:\n",
    "        grad[obs - 1] -= 1 / p[obs - 1]\n",
    "    return grad"
   ]
  },
  {
   "cell_type": "code",
   "execution_count": 14,
   "id": "da0c6996-eea5-41ed-affb-7663cc1861fb",
   "metadata": {},
   "outputs": [],
   "source": [
    "#梯度下降\n",
    "def gradient_descent(observations, learning_rate = 0.01, num_iterations = 1000):\n",
    "    p = np.ones(6) / 6  # 初始化概率\n",
    "    for _ in range(num_iterations):\n",
    "        grad = gradient(p, observations)\n",
    "        p -= learning_rate * grad\n",
    "        p /= np.sum(p)  # 归一化，确保概率和为1\n",
    "    return p"
   ]
  },
  {
   "cell_type": "code",
   "execution_count": 15,
   "id": "0c433fc9-1668-4731-91e7-6ab53262755e",
   "metadata": {},
   "outputs": [
    {
     "name": "stdout",
     "output_type": "stream",
     "text": [
      "[0.1653401  0.16483524 0.16634521 0.16734429 0.17079505 0.1653401 ]\n"
     ]
    }
   ],
   "source": [
    "if __name__ == \"__main__\":\n",
    "    n = 1000  # 试验次数\n",
    "    observations = generate_observations(n)\n",
    "    estimated_p = gradient_descent(observations)\n",
    "    print(estimated_p)"
   ]
  },
  {
   "cell_type": "code",
   "execution_count": null,
   "id": "ab95a142-d989-48d9-b069-ca5b5d5397c6",
   "metadata": {},
   "outputs": [],
   "source": []
  },
  {
   "cell_type": "code",
   "execution_count": null,
   "id": "f036d169-3da5-4ee6-87e5-bf5b3086a732",
   "metadata": {},
   "outputs": [],
   "source": []
  }
 ],
 "metadata": {
  "kernelspec": {
   "display_name": "Python 3 (ipykernel)",
   "language": "python",
   "name": "python3"
  },
  "language_info": {
   "codemirror_mode": {
    "name": "ipython",
    "version": 3
   },
   "file_extension": ".py",
   "mimetype": "text/x-python",
   "name": "python",
   "nbconvert_exporter": "python",
   "pygments_lexer": "ipython3",
   "version": "3.9.7"
  }
 },
 "nbformat": 4,
 "nbformat_minor": 5
}
