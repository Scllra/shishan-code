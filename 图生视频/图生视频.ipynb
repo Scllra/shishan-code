{
 "cells": [
  {
   "cell_type": "code",
   "execution_count": 103,
   "id": "05a23062-e87d-472c-8372-81ab1c1d1f27",
   "metadata": {},
   "outputs": [
    {
     "name": "stdout",
     "output_type": "stream",
     "text": [
      "VideoObject(id='53541732691932804-9202953177696175758', model='cogvideox', video_result=None, task_status='PROCESSING', request_id='-9202953177696175759')\n"
     ]
    }
   ],
   "source": [
    "from zhipuai import ZhipuAI\n",
    "client = ZhipuAI(api_key=\"0f8e594bb924c0a6336dcda357a35473.r9lHJy2xMeC7dZgb\") # 请填写您自己的APIKey\n",
    "\n",
    "response = client.videos.generations(\n",
    "    model=\"cogvideox\",\n",
    "    prompt=\"一位时尚的女士穿着黑色皮夹克、长红裙和黑靴，在充满温暖霓虹灯光和动态城市标志的东京街头漫步。她背着黑色手提包，戴着太阳镜和红色口红。她走路自信而随意。街道湿润且反光，为五彩斑斓的灯光创造了镜面效果。许多行人来来往往。\"\n",
    ")\n",
    "print(response)"
   ]
  },
  {
   "cell_type": "code",
   "execution_count": 109,
   "id": "053feb6c-33a4-479a-995f-451213752102",
   "metadata": {},
   "outputs": [
    {
     "name": "stdout",
     "output_type": "stream",
     "text": [
      "VideoObject(id=None, model='cogvideox', video_result=[VideoResult(url='https://aigc-files.bigmodel.cn/api/cogvideo/d905dbc0-ad2c-11ef-bd78-9ee7942420ea_0.mp4', cover_image_url='https://aigc-files.bigmodel.cn/api/cogvideo/d905dbc0-ad2c-11ef-bd78-9ee7942420ea_cover_0.jpeg')], task_status='SUCCESS', request_id='-9202953177696175759')\n"
     ]
    }
   ],
   "source": [
    "from zhipuai import ZhipuAI\n",
    "client = ZhipuAI(api_key=\"0f8e594bb924c0a6336dcda357a35473.r9lHJy2xMeC7dZgb\") # 请填写您自己的APIKey\n",
    "\n",
    "response = client.videos.retrieve_videos_result(\n",
    "    id=\"53541732691932804-9202953177696175758\"\n",
    ")\n",
    "print(response)"
   ]
  },
  {
   "cell_type": "code",
   "execution_count": 1,
   "id": "65a2e280-485c-4c84-a0a3-aea5ea824236",
   "metadata": {},
   "outputs": [],
   "source": [
    "import os\n",
    "from zhipuai import ZhipuAI\n",
    "import base64\n",
    "\n",
    "os.environ[\"ZHIPUAI_API_KEY\"] = \"0f8e594bb924c0a6336dcda357a35473.r9lHJy2xMeC7dZgb\"\n",
    "client = ZhipuAI()"
   ]
  },
  {
   "cell_type": "code",
   "execution_count": 14,
   "id": "d8352bce-d611-4f62-8a95-3fb54fbc0de6",
   "metadata": {},
   "outputs": [
    {
     "name": "stdout",
     "output_type": "stream",
     "text": [
      "wait ten seconds\n",
      "CompletionMessage(content='画面中心，一个穿着红色裙子、黑色皮衣的女人正对镜头向前走。她右手提着一个黑色的包，左手自然垂在身体一侧。她的头发是黑色的，戴着墨镜。背景是一个繁华的城市街道，有很多霓虹灯和广告牌，周围还有很多行人。', role='assistant', tool_calls=None)\n"
     ]
    }
   ],
   "source": [
    "video_path = \"1.mp4\"\n",
    "with open(video_path,'rb') as video_file:\n",
    "    video_base = base64.b64encode(video_file.read()).decode('utf-8')\n",
    "print(\"wait ten seconds\")\n",
    "response = client.chat.completions.create(\n",
    "    model=\"glm-4v-plus\",  # 填写需要调用的模型名称\n",
    "    temperature=0.0,\n",
    "    top_p=0,\n",
    "    \n",
    "     messages=[{\n",
    "        \"role\": \"user\",\n",
    "        \"content\": [{\n",
    "            \"type\": \"video_url\",\n",
    "            \"video_url\": {\n",
    "                \"url\" : video_base\n",
    "            }\n",
    "          },\n",
    "          {\n",
    "            \"type\": \"text\",\n",
    "            \"text\": \"请仔细描述这个视频\"\n",
    "          }\n",
    "        ]\n",
    "      }\n",
    "    ]\n",
    ")\n",
    "print(response.choices[0].message)"
   ]
  },
  {
   "cell_type": "code",
   "execution_count": null,
   "id": "5042aa2d-fb6d-4a7e-9803-a69aa3e6a9bf",
   "metadata": {},
   "outputs": [],
   "source": []
  },
  {
   "cell_type": "code",
   "execution_count": null,
   "id": "6510659d-7f86-4ed7-821d-cb681b22a42e",
   "metadata": {},
   "outputs": [],
   "source": []
  }
 ],
 "metadata": {
  "kernelspec": {
   "display_name": "Python 3 (ipykernel)",
   "language": "python",
   "name": "python3"
  },
  "language_info": {
   "codemirror_mode": {
    "name": "ipython",
    "version": 3
   },
   "file_extension": ".py",
   "mimetype": "text/x-python",
   "name": "python",
   "nbconvert_exporter": "python",
   "pygments_lexer": "ipython3",
   "version": "3.9.7"
  }
 },
 "nbformat": 4,
 "nbformat_minor": 5
}
