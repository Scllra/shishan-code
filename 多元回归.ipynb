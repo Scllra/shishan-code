{
 "cells": [
  {
   "cell_type": "code",
   "execution_count": 1,
   "id": "6f1aed25-f6aa-45e4-ad06-5f7c9d9c5dd0",
   "metadata": {},
   "outputs": [],
   "source": [
    "import torch\n",
    "import torch.optim as optim\n",
    "from torch.utils.data import DataLoader, TensorDataset\n",
    "from sklearn.model_selection import train_test_split\n",
    "import matplotlib.pyplot as plt\n",
    "import pandas as pd"
   ]
  },
  {
   "cell_type": "code",
   "execution_count": 2,
   "id": "530430a3-964a-4a1d-9617-d193f630e2da",
   "metadata": {},
   "outputs": [
    {
     "name": "stdout",
     "output_type": "stream",
     "text": [
      "数据基本信息：\n",
      "<class 'pandas.core.frame.DataFrame'>\n",
      "RangeIndex: 506 entries, 0 to 505\n",
      "Data columns (total 14 columns):\n",
      " #   Column   Non-Null Count  Dtype  \n",
      "---  ------   --------------  -----  \n",
      " 0   CRIM     506 non-null    float64\n",
      " 1   ZN       506 non-null    float64\n",
      " 2   INDUS    506 non-null    float64\n",
      " 3   CHAS     506 non-null    int64  \n",
      " 4   NOX      506 non-null    float64\n",
      " 5   RM       506 non-null    float64\n",
      " 6   AGE      506 non-null    float64\n",
      " 7   DIS      506 non-null    float64\n",
      " 8   RAD      506 non-null    int64  \n",
      " 9   TAX      506 non-null    int64  \n",
      " 10  PIRATIO  506 non-null    float64\n",
      " 11  B        506 non-null    float64\n",
      " 12  LSTAT    506 non-null    float64\n",
      " 13  MEDV     506 non-null    float64\n",
      "dtypes: float64(11), int64(3)\n",
      "memory usage: 55.5 KB\n"
     ]
    }
   ],
   "source": [
    "# 读取数据\n",
    "data = pd.read_csv(r'C:\\Users\\admin\\Desktop\\21大数据一班 肖博臻\\波士顿房价数据集\\波士顿房价数据集/boston.csv')\n",
    "\n",
    "print('数据基本信息：')\n",
    "data.info()\n",
    "\n",
    "# 查看数据集行数和列数\n",
    "rows, columns = data.shape\n",
    "\n",
    "if rows < 100 and columns < 20:\n",
    "    # 短表数据（行数少于100且列数少于20）查看全量数据信息\n",
    "    print('数据全部内容信息：')\n",
    "    print(data.to_markdown(numalign='left', stralign='left'))\n"
   ]
  },
  {
   "cell_type": "code",
   "execution_count": 3,
   "id": "2fc4906c-7351-453a-a5d3-fdd7a80c056e",
   "metadata": {},
   "outputs": [],
   "source": [
    "# 准备自变量和因变量数据\n",
    "X = data.drop('MEDV', axis=1)\n",
    "y = data['MEDV']\n",
    "\n",
    "# 数据预处理：标准化自变量\n",
    "X = (X - X.mean()) / X.std()\n",
    "\n",
    "# 将数据分为训练集和测试集\n",
    "X_train, X_test, y_train, y_test = train_test_split(X, y, train_size=0.8, random_state=30)\n",
    "\n",
    "# 将数据转换为 PyTorch 的张量\n",
    "X_train = torch.tensor(X_train.values, dtype=torch.float32)\n",
    "y_train = torch.tensor(y_train.values, dtype=torch.float32).view(-1, 1)\n",
    "X_test = torch.tensor(X_test.values, dtype=torch.float32)\n",
    "y_test = torch.tensor(y_test.values, dtype=torch.float32).view(-1, 1)\n"
   ]
  },
  {
   "cell_type": "code",
   "execution_count": 4,
   "id": "e0f7db9f-1d27-43e0-9697-0563185e2882",
   "metadata": {},
   "outputs": [
    {
     "name": "stdout",
     "output_type": "stream",
     "text": [
      "Epoch [10/100], Loss: 64.9220\n",
      "Epoch [20/100], Loss: 25.3869\n",
      "Epoch [30/100], Loss: 23.0675\n",
      "Epoch [40/100], Loss: 25.2254\n",
      "Epoch [50/100], Loss: 22.7921\n",
      "Epoch [60/100], Loss: 21.8253\n",
      "Epoch [70/100], Loss: 23.6698\n",
      "Epoch [80/100], Loss: 22.9068\n",
      "Epoch [90/100], Loss: 22.8245\n",
      "Epoch [100/100], Loss: 27.0233\n"
     ]
    },
    {
     "data": {
      "image/png": "[encoded data removed]",
      "text/plain": [
       "<Figure size 432x288 with 1 Axes>"
      ]
     },
     "metadata": {
      "needs_background": "light"
     },
     "output_type": "display_data"
    }
   ],
   "source": [
    "# 创建数据集和数据加载器\n",
    "train_dataset = TensorDataset(X_train, y_train)\n",
    "train_loader = DataLoader(train_dataset, batch_size=64, shuffle=True)\n",
    "\n",
    "# 定义模型参数的维度\n",
    "input_size = X_train.shape[1]\n",
    "output_size = 1\n",
    "\n",
    "# 创建线性回归模型\n",
    "class LinearRegressionModel(torch.nn.Module):\n",
    "    def __init__(self, input_size, output_size):\n",
    "        super().__init__()\n",
    "        self.linear = torch.nn.Linear(input_size, output_size)\n",
    "\n",
    "    def forward(self, x):\n",
    "        return self.linear(x)\n",
    "\n",
    "model = LinearRegressionModel(input_size, output_size)\n",
    "\n",
    "# 定义损失函数和优化器\n",
    "criterion = torch.nn.MSELoss()\n",
    "optimizer = optim.SGD(model.parameters(), lr=0.01)\n",
    "\n",
    "# 初始化数据用于可视化损失下降曲线\n",
    "train_loss = []\n",
    "\n",
    "# 训练模型\n",
    "num_epochs = 100\n",
    "for epoch in range(num_epochs):\n",
    "    running_loss = 0.0\n",
    "    for inputs, labels in train_loader:\n",
    "        # 前向传播\n",
    "        outputs = model(inputs)\n",
    "        # 计算损失\n",
    "        loss = criterion(outputs, labels)\n",
    "        # 反向传播和优化器更新\n",
    "        optimizer.zero_grad()\n",
    "        loss.backward()\n",
    "        optimizer.step()\n",
    "        running_loss += loss.item()\n",
    "\n",
    "    # 将每个 epoch 的训练损失添加到 train_loss 列表中\n",
    "    train_loss.append(running_loss / len(train_loader))\n",
    "\n",
    "    if (epoch+1) % 10 == 0:\n",
    "        print(f'Epoch [{epoch+1}/{num_epochs}], Loss: {train_loss[-1]:.4f}')\n",
    "\n",
    "# 可视化损失下降曲线\n",
    "plt.plot(range(1, num_epochs+1), train_loss, 'b', label='Training Loss')\n",
    "plt.xlabel('Epoch')\n",
    "plt.xticks(rotation=45)\n",
    "plt.ylabel('Loss')\n",
    "plt.title('Training Loss')\n",
    "plt.grid(True)\n",
    "plt.show()"
   ]
  },
  {
   "cell_type": "code",
   "execution_count": null,
   "id": "c5a093f3-f0f9-46a5-b0d8-5ac56775204e",
   "metadata": {},
   "outputs": [],
   "source": []
  },
  {
   "cell_type": "code",
   "execution_count": null,
   "id": "659887c2-33af-4562-b6d8-85441cc4abec",
   "metadata": {},
   "outputs": [],
   "source": []
  },
  {
   "cell_type": "code",
   "execution_count": null,
   "id": "4026cb54-300c-4958-8d4b-877fc4cd6876",
   "metadata": {},
   "outputs": [],
   "source": []
  }
 ],
 "metadata": {
  "kernelspec": {
   "display_name": "Python 3 (ipykernel)",
   "language": "python",
   "name": "python3"
  },
  "language_info": {
   "codemirror_mode": {
    "name": "ipython",
    "version": 3
   },
   "file_extension": ".py",
   "mimetype": "text/x-python",
   "name": "python",
   "nbconvert_exporter": "python",
   "pygments_lexer": "ipython3",
   "version": "3.11.4"
  }
 },
 "nbformat": 4,
 "nbformat_minor": 5
}
