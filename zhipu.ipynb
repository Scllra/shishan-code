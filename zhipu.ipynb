{
 "cells": [
  {
   "cell_type": "code",
   "execution_count": 4,
   "id": "5d9b6c16-5fa7-451a-80b5-cb860e98a00d",
   "metadata": {
    "tags": []
   },
   "outputs": [
    {
     "name": "stdout",
     "output_type": "stream",
     "text": [
      "VideoObject(id='53541732691932804-9202953040257016536', model='cogvideox', video_result=None, task_status='PROCESSING', request_id='-9202953040257016537')\n"
     ]
    }
   ],
   "source": [
    "from zhipuai import ZhipuAI\n",
    "client = ZhipuAI(api_key=\"0f8e594bb924c0a6336dcda357a35473.r9lHJy2xMeC7dZgb\") # 请填写您自己的APIKey\n",
    "\n",
    "response = client.videos.generations(\n",
    "    model=\"cogvideox\",\n",
    "    prompt=\"比得兔开小汽车，游走在马路上，脸上的表情充满开心喜悦。\"\n",
    ")\n",
    "print(response)"
   ]
  },
  {
   "cell_type": "code",
   "execution_count": 5,
   "id": "84ccc186-2107-4501-b194-086ab774f85b",
   "metadata": {
    "tags": []
   },
   "outputs": [
    {
     "name": "stdout",
     "output_type": "stream",
     "text": [
      "VideoObject(id=None, model='cogvideox', video_result=[VideoResult(url='https://aigc-files.bigmodel.cn/api/cogvideo/db08a624-acd6-11ef-885a-5e01a0c308a2_0.mp4', cover_image_url='https://aigc-files.bigmodel.cn/api/cogvideo/db08a624-acd6-11ef-885a-5e01a0c308a2_cover_0.jpeg')], task_status='SUCCESS', request_id='-9202953040257016537')\n"
     ]
    }
   ],
   "source": [
    "from zhipuai import ZhipuAI\n",
    "client = ZhipuAI(api_key=\"0f8e594bb924c0a6336dcda357a35473.r9lHJy2xMeC7dZgb\") # 请填写您自己的APIKey\n",
    "\n",
    "response = client.videos.retrieve_videos_result(\n",
    "    id=\"53541732691932804-9202953040257016536\"#代码生成id\n",
    ")\n",
    "print(response)"
   ]
  },
  {
   "cell_type": "code",
   "execution_count": null,
   "id": "2ef23b3a-52e2-444a-b69d-bbac307e76d5",
   "metadata": {},
   "outputs": [],
   "source": []
  },
  {
   "cell_type": "code",
   "execution_count": null,
   "id": "69372b25-82c8-43d5-84b9-e20210fd067a",
   "metadata": {},
   "outputs": [],
   "source": []
  },
  {
   "cell_type": "code",
   "execution_count": null,
   "id": "aa9adbe9-0cb3-40b3-b8c4-7453d65e78b7",
   "metadata": {},
   "outputs": [],
   "source": []
  }
 ],
 "metadata": {
  "kernelspec": {
   "display_name": "Python 3 (ipykernel)",
   "language": "python",
   "name": "python3"
  },
  "language_info": {
   "codemirror_mode": {
    "name": "ipython",
    "version": 3
   },
   "file_extension": ".py",
   "mimetype": "text/x-python",
   "name": "python",
   "nbconvert_exporter": "python",
   "pygments_lexer": "ipython3",
   "version": "3.11.4"
  }
 },
 "nbformat": 4,
 "nbformat_minor": 5
}
