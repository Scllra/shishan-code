{
 "cells": [
  {
   "cell_type": "code",
   "execution_count": 36,
   "id": "fc2b3b72-b20a-45dd-b207-5b559a515cf6",
   "metadata": {},
   "outputs": [],
   "source": [
    "import os \n",
    "from zhipuai import ZhipuAI\n",
    "\n",
    "os.environ[\"ZHIPUAI_API_KEY\"] = \"0f8e594bb924c0a6336dcda357a35473.r9lHJy2xMeC7dZgb\"\n",
    "client = ZhipuAI()\n",
    "\n",
    "kb_id=1862025506451488768\n"
   ]
  },
  {
   "cell_type": "code",
   "execution_count": 30,
   "id": "570fd974-f2cc-42e2-bef1-1eed10da7b42",
   "metadata": {},
   "outputs": [
    {
     "data": {
      "text/plain": [
       "Completion(model='glm-4', created=1732777850, choices=[CompletionChoice(index=0, finish_reason='stop', message=CompletionMessage(content='大数据处理通常包含以下流程：\\n\\n1. **数据收集**：\\n   - 这是大数据处理的第一步，涉及从各种数据源获取原始数据，包括但不限于传感器、社交媒体、在线交易、日志文件等。\\n\\n2. **数据存储**：\\n   - 收集的数据需要存储在适当的地方，以便进一步处理。存储解决方案可以是关系型数据库、非关系型数据库（如MongoDB、HBase）、数据仓库或云存储服务。\\n\\n3. **数据清洗**：\\n   - 原始数据往往包含不完整、错误或重复的信息。数据清洗是移除这些问题的过程，确保数据的质量和准确性。\\n\\n4. **数据整合**：\\n   - 数据可能来自不同的来源，具有不同的格式和结构。数据整合是将这些数据合并，形成统一格式的过程。\\n\\n5. **数据处理**：\\n   - 这个阶段包括对数据进行转换、聚合、分析等操作。这可能需要运用各种算法和数据处理技术，例如批处理、流处理等。\\n\\n   - **批处理**：处理大量静态数据。\\n   - **流处理**：实时处理连续不断的数据流。\\n\\n6. **数据分析**：\\n   - 使用统计学、数据挖掘和机器学习等方法对数据进行深入分析，提取有价值的信息和洞察。\\n\\n7. **数据可视化**：\\n   - 将分析结果以图形、图表等形式展现出来，使得决策者能够更直观地理解数据。\\n\\n8. **决策支持**：\\n   - 基于数据分析的结果，为企业和组织的决策提供支持。\\n\\n9. **反馈循环**：\\n   - 根据数据的分析结果和决策执行的效果，不断调整数据处理和决策过程。\\n\\n10. **安全与隐私**：\\n   - 在整个大数据处理流程中，需要特别注意数据的安全性和个人隐私保护。\\n\\n这些流程不是一次性顺序执行的，而是一个迭代和循环的过程，随着业务需求和技术的发展，每个环节都可能需要不断地优化和调整。', role='assistant', tool_calls=None))], request_id='20241128151035e71aba7a93964160', id='20241128151035e71aba7a93964160', usage=CompletionUsage(prompt_tokens=8, completion_tokens=395, total_tokens=403))"
      ]
     },
     "execution_count": 30,
     "metadata": {},
     "output_type": "execute_result"
    }
   ],
   "source": [
    "prompt_template = \"大数据处理的流程,大数据采集、大数据导入与预处理、大数据统计与分析，最后一步是大数据挖掘\"\n",
    "\n",
    "response = client.chat.completions.create(\n",
    "    model=\"glm-4\",  # 请填写您要调用的模型名称\n",
    "    messages=[\n",
    "    {\"role\":\"user\",\"content\":\"大数据处理的流程\"},\n",
    "    ],\n",
    "    \n",
    "    tools = [\n",
    "        {\n",
    "            \"type\":\"retrieval\",\n",
    "            \"retrieval\":{\n",
    "                \"knowledge_id\":kb_id,\n",
    "                \"prompt_template\":prompt_template,\n",
    "            }\n",
    "        }\n",
    "    ],\n",
    "    stream = False,\n",
    ")\n",
    "response"
   ]
  },
  {
   "cell_type": "code",
   "execution_count": 37,
   "id": "9851eefb-9892-481e-a84c-822065d65db1",
   "metadata": {},
   "outputs": [
    {
     "name": "stdout",
     "output_type": "stream",
     "text": [
      "DocumentObject(successInfos=[DocumentSuccessinfo(documentId='1862033990693814272', filename=None, fileName='bigdata.pdf')], failedInfos=[])\n"
     ]
    }
   ],
   "source": [
    "resp = client.knowledge.document.create(\n",
    "    file = open(\"bigdata.pdf\",\"rb\"),\n",
    "    purpose = \"retrieval\",\n",
    "    knowledge_id = \"1862025506451488768\",\n",
    "    sentence_size=202,\n",
    "    custom_separator=[\"\\n\"]\n",
    ")\n",
    "print(resp)"
   ]
  },
  {
   "cell_type": "code",
   "execution_count": 44,
   "id": "b71f20c8-c2c2-49c6-bc19-610031a84efe",
   "metadata": {},
   "outputs": [
    {
     "name": "stdout",
     "output_type": "stream",
     "text": [
      "CompletionMessage(content='您提供的内容是关于大数据概述的章节，其中涉及大数据的产生背景、概念、影响、关键技术、计算模式和应用领域，以及大数据与人工智能、物联网、云计算的关系。以下是对您提供内容的总结和解释：\\n\\n### 大数据的产生背景与发展\\n大数据的产生与信息科技的进步密切相关。从个人计算机到互联网，再到云计算、物联网，每一次技术革新都极大地推动了数据的产生和积累。\\n\\n### 大数据的概念\\n大数据不仅仅是指数据量大，而是指数据量巨大、数据类型繁多、处理速度快、价值密度低和真实性高。这些特征使得传统数据处理方法无法应对，需要新的技术手段。\\n\\n### 大数据的影响\\n大数据对科学研究、思维方式、社会发展、就业市场和人才培养等方面都有深远的影响。它改变了决策方式，促进了信息技术与各行业的深度融合，推动了新技术和新应用的涌现。\\n\\n### 大数据的关键技术与计算模式\\n大数据的关键技术包括数据采集、预处理、存储管理、分析挖掘和展现应用等。计算模式主要包括批处理计算、流式计算、交互式查询计算和图计算。\\n\\n### 大数据的应用\\n大数据在金融、汽车、零售、餐饮、电信、能源、政务、医疗、体育娱乐、教育等各个领域都有广泛的应用。\\n\\n### 大数据与人工智能、物联网、云计算的关系\\n人工智能、大数据、物联网和云计算是相互关联、相互支持的技术领域。物联网收集数据，大数据分析数据，云计算提供计算资源，人工智能利用分析结果进行决策和预测。\\n\\n希望以上总结对您有所帮助。如果您有其他问题或需要进一步了解，请随时提问。', role='assistant', tool_calls=None)\n"
     ]
    }
   ],
   "source": [
    "from zhipuai import ZhipuAI\n",
    "from pathlib import Path\n",
    "import json\n",
    "\n",
    "\n",
    "# 格式限制：.PDF.DOCX.DOC.XLS.XLSX.CSV.PY.TXT.MD.BMP.GIF\n",
    "# 大小：单个文件50M，总数限制为100个文件\n",
    "\n",
    "file_object = client.files.create(file=Path(\"bigdata.pdf\"), purpose=\"file-extract\")\n",
    "\n",
    "# 获取文本内容\n",
    "file_content = json.loads(client.files.content(file_id=file_object.id).content)['content']\n",
    "\n",
    "# 生成请求消息\n",
    "message_content = f\"请对\\n{file_content}\\n的内容进行分析，并撰写一份论文摘要。\"\n",
    "\n",
    "response = client.chat.completions.create(\n",
    "    model=\"glm-4-long\",\n",
    "    messages=[\n",
    "        {\"role\": \"user\", \"content\": message_content}\n",
    "    ],\n",
    ")\n",
    "\n",
    "print(response.choices[0].message)"
   ]
  },
  {
   "cell_type": "code",
   "execution_count": null,
   "id": "11e35156-8909-4706-837e-2ffca45c9731",
   "metadata": {},
   "outputs": [],
   "source": []
  }
 ],
 "metadata": {
  "kernelspec": {
   "display_name": "Python 3 (ipykernel)",
   "language": "python",
   "name": "python3"
  },
  "language_info": {
   "codemirror_mode": {
    "name": "ipython",
    "version": 3
   },
   "file_extension": ".py",
   "mimetype": "text/x-python",
   "name": "python",
   "nbconvert_exporter": "python",
   "pygments_lexer": "ipython3",
   "version": "3.9.7"
  }
 },
 "nbformat": 4,
 "nbformat_minor": 5
}
