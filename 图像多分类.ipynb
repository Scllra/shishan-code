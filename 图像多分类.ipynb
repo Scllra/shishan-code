{
 "cells": [
  {
   "cell_type": "code",
   "execution_count": 20,
   "id": "7126bc26",
   "metadata": {},
   "outputs": [],
   "source": [
    "import torch\n",
    "import torchvision\n",
    "import torchvision.transforms as transforms\n",
    "from torch.utils.data import DataLoader, random_split\n",
    "import torch.nn as nn\n",
    "import torch.optim as optim\n",
    "from sklearn.metrics import accuracy_score, recall_score, f1_score, confusion_matrix\n",
    "import numpy as np\n"
   ]
  },
  {
   "cell_type": "code",
   "execution_count": 39,
   "id": "46c18a6b",
   "metadata": {},
   "outputs": [],
   "source": [
    "# 数据预处理\n",
    "transform_train = transforms.Compose([\n",
    "    transforms.RandomResizedCrop(224),\n",
    "    transforms.RandomHorizontalFlip(),\n",
    "    transforms.RandomRotation(10),\n",
    "    transforms.ToTensor()\n",
    "])\n",
    "\n",
    "transform_test = transforms.Compose([\n",
    "    transforms.Resize((224, 224)),\n",
    "    transforms.ToTensor()\n",
    "])\n",
    "# 定义要使用的类别\n",
    "selected_classes = [0, 1, 2]  # 0: 飞机, 1: 鸟, 2: 车"
   ]
  },
  {
   "cell_type": "code",
   "execution_count": 47,
   "id": "ad169454",
   "metadata": {},
   "outputs": [
    {
     "name": "stderr",
     "output_type": "stream",
     "text": [
      "C:\\Users\\bozhe\\AppData\\Local\\Temp\\ipykernel_17936\\246117972.py:2: FutureWarning: You are using `torch.load` with `weights_only=False` (the current default value), which uses the default pickle module implicitly. It is possible to construct malicious pickle data which will execute arbitrary code during unpickling (See https://github.com/pytorch/pytorch/blob/main/SECURITY.md#untrusted-models for more details). In a future release, the default value for `weights_only` will be flipped to `True`. This limits the functions that could be executed during unpickling. Arbitrary objects will no longer be allowed to be loaded via this mode unless they are explicitly allowlisted by the user via `torch.serialization.add_safe_globals`. We recommend you start setting `weights_only=True` for any use case where you don't have full control of the loaded file. Please open an issue on GitHub for any issues related to this experimental feature.\n",
      "  train_dataset = torch.load('new_train_dataset.pt')\n",
      "C:\\Users\\bozhe\\AppData\\Local\\Temp\\ipykernel_17936\\246117972.py:3: FutureWarning: You are using `torch.load` with `weights_only=False` (the current default value), which uses the default pickle module implicitly. It is possible to construct malicious pickle data which will execute arbitrary code during unpickling (See https://github.com/pytorch/pytorch/blob/main/SECURITY.md#untrusted-models for more details). In a future release, the default value for `weights_only` will be flipped to `True`. This limits the functions that could be executed during unpickling. Arbitrary objects will no longer be allowed to be loaded via this mode unless they are explicitly allowlisted by the user via `torch.serialization.add_safe_globals`. We recommend you start setting `weights_only=True` for any use case where you don't have full control of the loaded file. Please open an issue on GitHub for any issues related to this experimental feature.\n",
      "  test_dataset = torch.load('new_test_dataset.pt')\n"
     ]
    }
   ],
   "source": [
    "# 加载重新保存的训练集和测试集\n",
    "train_dataset = torch.load('new_train_dataset.pt')\n",
    "test_dataset = torch.load('new_test_dataset.pt')\n",
    "\n",
    "# 数据加载器\n",
    "train_loader = DataLoader(train_dataset, batch_size=32, shuffle=True)\n",
    "test_loader = DataLoader(test_dataset, batch_size=32, shuffle=False)\n"
   ]
  },
  {
   "cell_type": "code",
   "execution_count": 32,
   "id": "0e508b29",
   "metadata": {},
   "outputs": [
    {
     "name": "stdout",
     "output_type": "stream",
     "text": [
      "Files already downloaded and verified\n",
      "Files already downloaded and verified\n"
     ]
    }
   ],
   "source": [
    "# 加载STL-10数据集\n",
    "train_dataset = torchvision.datasets.STL10(root='./data', split='train', transform=transform_train, download=True)\n",
    "test_dataset = torchvision.datasets.STL10(root='./data', split='test', transform=transform_test, download=True)\n",
    "# 划分数据集（假设这里将训练集按80%、20%划分为训练集、验证集）\n",
    "train_size = int(0.8 * len(train_dataset))\n",
    "val_size = len(train_dataset) - train_size\n",
    "train_dataset, val_dataset = random_split(train_dataset, [train_size, val_size])\n",
    "\n",
    "# 数据加载器\n",
    "train_loader = DataLoader(train_dataset, batch_size=32, shuffle=True)\n",
    "val_loader = DataLoader(val_dataset, batch_size=32, shuffle=False)\n",
    "test_loader = DataLoader(test_dataset, batch_size=32, shuffle=False)\n"
   ]
  },
  {
   "cell_type": "code",
   "execution_count": 46,
   "id": "162c82a6",
   "metadata": {},
   "outputs": [],
   "source": [
    "# 模型构建\n",
    "class CNN(nn.Module):\n",
    "    def __init__(self):\n",
    "        super(CNN, self).__init__()\n",
    "        self.conv1 = nn.Conv2d(3, 32, kernel_size=3, stride=1, padding=1)\n",
    "        self.conv2 = nn.Conv2d(32, 64, kernel_size=3, stride=1, padding=1)\n",
    "        self.pool = nn.MaxPool2d(2, 2)\n",
    "        self.fc1 = nn.Linear(64 * 56 * 56, 128)\n",
    "        self.fc2 = nn.Linear(128, 3)\n",
    "        self.relu = nn.ReLU()\n",
    "\n",
    "    def forward(self, x):\n",
    "        x = self.relu(self.conv1(x))\n",
    "        x = self.pool(x)\n",
    "        x = self.relu(self.conv2(x))\n",
    "        x = self.pool(x)\n",
    "        x = x.view(x.size(0), -1)\n",
    "        x = self.relu(self.fc1(x))\n",
    "        x = self.fc2(x)\n",
    "        return x\n",
    "\n",
    "model = CNN()\n",
    "criterion = nn.CrossEntropyLoss()\n",
    "optimizer = optim.Adam(model.parameters(), lr=0.001)"
   ]
  },
  {
   "cell_type": "code",
   "execution_count": 48,
   "id": "7abd5761",
   "metadata": {},
   "outputs": [],
   "source": [
    "# 训练模型\n",
    "def train_model(model, train_loader, test_loader, criterion, optimizer, num_epochs=10):\n",
    "    device = torch.device(\"cuda\" if torch.cuda.is_available() else \"cpu\")\n",
    "    model.to(device)\n",
    "\n",
    "    for epoch in range(num_epochs):\n",
    "        model.train()\n",
    "        running_loss = 0.0\n",
    "        for i, (inputs, labels) in enumerate(train_loader):\n",
    "            inputs, labels = inputs.to(device), labels.to(device)\n",
    "\n",
    "            optimizer.zero_grad()\n",
    "\n",
    "            outputs = model(inputs)\n",
    "            loss = criterion(outputs, labels)\n",
    "            loss.backward()\n",
    "            optimizer.step()\n",
    "\n",
    "            running_loss += loss.item()\n",
    "\n",
    "        epoch_loss = running_loss / len(train_loader)\n",
    "\n",
    "        # 在测试集上评估模型\n",
    "        model.eval()\n",
    "        test_loss = 0.0\n",
    "        test_preds = []\n",
    "        test_labels = []\n",
    "        with torch.no_grad():\n",
    "            for inputs, labels in test_loader:\n",
    "                inputs, labels = inputs.to(device), labels.to(device)\n",
    "                outputs = model(inputs)\n",
    "                loss = criterion(outputs, labels)\n",
    "                test_loss += loss.item()\n",
    "                _, preds = torch.max(outputs, 1)\n",
    "                test_preds.extend(preds.cpu().numpy())\n",
    "                test_labels.extend(labels.cpu().numpy())\n",
    "\n",
    "        test_epoch_loss = test_loss / len(test_loader)\n",
    "        test_accuracy = accuracy_score(test_labels, test_preds)\n",
    "        test_recall = recall_score(test_labels, test_preds, average='macro')\n",
    "        test_f1 = f1_score(test_labels, test_preds, average='macro')\n",
    "\n",
    "        print(f'Epoch {epoch + 1}/{num_epochs} - Train Loss: {epoch_loss:.4f} - Test Loss: {test_epoch_loss:.4f} - Test Accuracy: {test_accuracy:.4f} - Test Recall: {test_recall:.4f} - Test F1: {test_f1:.4f}')\n",
    "\n",
    "    return model\n"
   ]
  },
  {
   "cell_type": "code",
   "execution_count": 49,
   "id": "c5f57ce7",
   "metadata": {},
   "outputs": [
    {
     "name": "stdout",
     "output_type": "stream",
     "text": [
      "Epoch 1/10 - Train Loss: 0.9197 - Test Loss: 0.5555 - Test Accuracy: 0.7600 - Test Recall: 0.7630 - Test F1: 0.7618\n",
      "Epoch 2/10 - Train Loss: 0.5238 - Test Loss: 0.4915 - Test Accuracy: 0.8267 - Test Recall: 0.8244 - Test F1: 0.8248\n",
      "Epoch 3/10 - Train Loss: 0.3809 - Test Loss: 0.4575 - Test Accuracy: 0.8533 - Test Recall: 0.8507 - Test F1: 0.8518\n",
      "Epoch 4/10 - Train Loss: 0.2469 - Test Loss: 0.5077 - Test Accuracy: 0.8133 - Test Recall: 0.8164 - Test F1: 0.8129\n",
      "Epoch 5/10 - Train Loss: 0.1927 - Test Loss: 0.4751 - Test Accuracy: 0.8533 - Test Recall: 0.8527 - Test F1: 0.8526\n",
      "Epoch 6/10 - Train Loss: 0.0731 - Test Loss: 0.6693 - Test Accuracy: 0.8433 - Test Recall: 0.8402 - Test F1: 0.8416\n",
      "Epoch 7/10 - Train Loss: 0.0525 - Test Loss: 0.5126 - Test Accuracy: 0.8600 - Test Recall: 0.8559 - Test F1: 0.8576\n",
      "Epoch 8/10 - Train Loss: 0.0222 - Test Loss: 0.6349 - Test Accuracy: 0.8700 - Test Recall: 0.8700 - Test F1: 0.8699\n",
      "Epoch 9/10 - Train Loss: 0.0076 - Test Loss: 0.7136 - Test Accuracy: 0.8733 - Test Recall: 0.8733 - Test F1: 0.8728\n",
      "Epoch 10/10 - Train Loss: 0.0030 - Test Loss: 0.7801 - Test Accuracy: 0.8700 - Test Recall: 0.8678 - Test F1: 0.8693\n",
      "Final Test Loss: 0.7801 - Final Test Accuracy: 0.8700 - Final Test Recall: 0.8678 - Final Test F1: 0.8693\n"
     ]
    }
   ],
   "source": [
    "# 训练模型\n",
    "trained_model = train_model(model, train_loader, test_loader, criterion, optimizer)\n",
    "\n",
    "# 在测试集上再次评估模型以获取最终结果\n",
    "test_model = trained_model\n",
    "test_model.eval()\n",
    "test_loss = 0.0\n",
    "test_preds = []\n",
    "test_labels = []\n",
    "with torch.no_grad():\n",
    "    for inputs, labels in test_loader:\n",
    "        inputs, labels = inputs.to(\"cuda\" if torch.cuda.is_available() else \"cpu\"), labels.to(\"cuda\" if torch.cuda.is_available() else \"cpu\")\n",
    "        outputs = test_model(inputs)\n",
    "        loss = criterion(outputs, labels)\n",
    "        test_loss += loss.item()\n",
    "        _, preds = torch.max(outputs, 1)\n",
    "        test_preds.extend(preds.cpu().numpy())\n",
    "        test_labels.extend(labels.cpu().numpy())\n",
    "\n",
    "test_epoch_loss = test_loss / len(test_loader)\n",
    "test_accuracy = accuracy_score(test_labels, test_preds)\n",
    "test_recall = recall_score(test_labels, test_preds, average='macro')\n",
    "test_f1 = f1_score(test_labels, test_preds, average='macro')\n",
    "\n",
    "print(f'Final Test Loss: {test_epoch_loss:.4f} - Final Test Accuracy: {test_accuracy:.4f} - Final Test Recall: {test_recall:.4f} - Final Test F1: {test_f1:.4f}')\n"
   ]
  },
  {
   "cell_type": "code",
   "execution_count": 56,
   "id": "f6af481c",
   "metadata": {},
   "outputs": [
    {
     "data": {
      "image/png": "[encoded data removed]",
      "text/plain": [
       "<Figure size 800x600 with 2 Axes>"
      ]
     },
     "metadata": {},
     "output_type": "display_data"
    }
   ],
   "source": [
    "# 生成混淆矩阵\n",
    "confusion_mat = confusion_matrix(test_labels, test_preds)\n",
    "class_names = ['Airplane', 'Bird', 'Car']\n",
    "plt.figure(figsize=(8, 6))\n",
    "sns.heatmap(confusion_mat, annot=True, fmt='d', cmap='Blues', xticklabels=class_names, yticklabels=class_names)\n",
    "plt.xlabel('Predicted')\n",
    "plt.ylabel('True')\n",
    "plt.title('Confusion Matrix')\n",
    "plt.show()"
   ]
  },
  {
   "cell_type": "code",
   "execution_count": 4,
   "id": "ec7d3e50",
   "metadata": {},
   "outputs": [
    {
     "name": "stdout",
     "output_type": "stream",
     "text": [
      "最终测试损失|0.7801\n",
      "最终测试准确率|0.8700\n",
      "最终测试召回率|0.8678\n",
      "最终测试F1值|0.8693\n"
     ]
    }
   ],
   "source": [
    "chinese_data = [\n",
    "    [\"准确率\", \"0.8700\"],\n",
    "    [\"召回率\", \"0.8678\"],\n",
    "    [\"F1值\", \"0.8693\"]\n",
    "]\n",
    "\n",
    "# 打印结果\n",
    "for row in chinese_data:\n",
    "    print(\"|\".join(row))"
   ]
  },
  {
   "cell_type": "code",
   "execution_count": null,
   "id": "1fb7fc75",
   "metadata": {},
   "outputs": [],
   "source": []
  },
  {
   "cell_type": "code",
   "execution_count": null,
   "id": "da46f836",
   "metadata": {},
   "outputs": [],
   "source": []
  },
  {
   "cell_type": "code",
   "execution_count": null,
   "id": "832c949f",
   "metadata": {},
   "outputs": [],
   "source": []
  },
  {
   "cell_type": "code",
   "execution_count": null,
   "id": "0d34d6cf",
   "metadata": {},
   "outputs": [],
   "source": []
  }
 ],
 "metadata": {
  "kernelspec": {
   "display_name": "Python 3 (ipykernel)",
   "language": "python",
   "name": "python3"
  },
  "language_info": {
   "codemirror_mode": {
    "name": "ipython",
    "version": 3
   },
   "file_extension": ".py",
   "mimetype": "text/x-python",
   "name": "python",
   "nbconvert_exporter": "python",
   "pygments_lexer": "ipython3",
   "version": "3.11.4"
  }
 },
 "nbformat": 4,
 "nbformat_minor": 5
}
